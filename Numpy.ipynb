{
 "cells": [
  {
   "cell_type": "code",
   "execution_count": 56,
   "id": "b001e02f",
   "metadata": {},
   "outputs": [],
   "source": [
    "#Libraries\n",
    "import numpy as np"
   ]
  },
  {
   "cell_type": "markdown",
   "id": "cae8cfb5",
   "metadata": {},
   "source": [
    "# **Creating numpy n-d Array**\n"
   ]
  },
  {
   "cell_type": "code",
   "execution_count": 57,
   "id": "5b893cc6",
   "metadata": {},
   "outputs": [
    {
     "data": {
      "text/plain": [
       "array([1, 2, 3, 4, 5])"
      ]
     },
     "execution_count": 57,
     "metadata": {},
     "output_type": "execute_result"
    }
   ],
   "source": [
    "arr1=np.array([1,2,3,4,5])\n",
    "arr1"
   ]
  },
  {
   "cell_type": "code",
   "execution_count": 58,
   "id": "96b43ed3",
   "metadata": {},
   "outputs": [
    {
     "data": {
      "text/plain": [
       "numpy.ndarray"
      ]
     },
     "execution_count": 58,
     "metadata": {},
     "output_type": "execute_result"
    }
   ],
   "source": [
    "type(arr1)"
   ]
  },
  {
   "cell_type": "code",
   "execution_count": 59,
   "id": "3829dd83",
   "metadata": {},
   "outputs": [
    {
     "data": {
      "text/plain": [
       "array([[1, 2, 3],\n",
       "       [4, 5, 6]])"
      ]
     },
     "execution_count": 59,
     "metadata": {},
     "output_type": "execute_result"
    }
   ],
   "source": [
    "arr2=np.array([[1,2,3],[4,5,6]])\n",
    "arr2"
   ]
  },
  {
   "cell_type": "code",
   "execution_count": 60,
   "id": "0085709e",
   "metadata": {},
   "outputs": [
    {
     "data": {
      "text/plain": [
       "array([[0., 0., 0.],\n",
       "       [0., 0., 0.]])"
      ]
     },
     "execution_count": 60,
     "metadata": {},
     "output_type": "execute_result"
    }
   ],
   "source": [
    "arr3=np.zeros((2,3))  # 2 rows, 3 columns\n",
    "arr3"
   ]
  },
  {
   "cell_type": "code",
   "execution_count": 61,
   "id": "ac4035e6",
   "metadata": {},
   "outputs": [
    {
     "data": {
      "text/plain": [
       "array([[1., 1., 1.],\n",
       "       [1., 1., 1.],\n",
       "       [1., 1., 1.]])"
      ]
     },
     "execution_count": 61,
     "metadata": {},
     "output_type": "execute_result"
    }
   ],
   "source": [
    "arr4=np.ones((3,3))  # 3 rows, 3 columns\n",
    "arr4"
   ]
  },
  {
   "cell_type": "code",
   "execution_count": 62,
   "id": "d30239ac",
   "metadata": {},
   "outputs": [
    {
     "data": {
      "text/plain": [
       "array([[1., 0., 0.],\n",
       "       [0., 1., 0.],\n",
       "       [0., 0., 1.]])"
      ]
     },
     "execution_count": 62,
     "metadata": {},
     "output_type": "execute_result"
    }
   ],
   "source": [
    "arr5=np.identity(3)  # 3x3 identity matrix\n",
    "arr5"
   ]
  },
  {
   "cell_type": "code",
   "execution_count": 63,
   "id": "1d87f848",
   "metadata": {},
   "outputs": [
    {
     "data": {
      "text/plain": [
       "array([0, 1, 2, 3, 4, 5, 6, 7, 8, 9])"
      ]
     },
     "execution_count": 63,
     "metadata": {},
     "output_type": "execute_result"
    }
   ],
   "source": [
    "arr6=np.arange(10)   #Generates an array with values from 0 to 9\n",
    "arr6"
   ]
  },
  {
   "cell_type": "code",
   "execution_count": 64,
   "id": "bbd1eac3",
   "metadata": {},
   "outputs": [
    {
     "data": {
      "text/plain": [
       "array([ 5,  6,  7,  8,  9, 10, 11, 12, 13, 14, 15])"
      ]
     },
     "execution_count": 64,
     "metadata": {},
     "output_type": "execute_result"
    }
   ],
   "source": [
    "arr7=np.arange(5,16)   #Generates an array with range of 5 to 15\n",
    "arr7"
   ]
  },
  {
   "cell_type": "code",
   "execution_count": 65,
   "id": "d3593f4e",
   "metadata": {},
   "outputs": [
    {
     "data": {
      "text/plain": [
       "array([ 0,  2,  4,  6,  8, 10, 12, 14, 16])"
      ]
     },
     "execution_count": 65,
     "metadata": {},
     "output_type": "execute_result"
    }
   ],
   "source": [
    "arr8=np.arange(0,17,2)  #Generates an array with values from 0 to 16 with step of 2\n",
    "arr8"
   ]
  },
  {
   "cell_type": "code",
   "execution_count": 66,
   "id": "b6c71719",
   "metadata": {},
   "outputs": [
    {
     "data": {
      "text/plain": [
       "array([10.        , 11.11111111, 12.22222222, 13.33333333, 14.44444444,\n",
       "       15.55555556, 16.66666667, 17.77777778, 18.88888889, 20.        ])"
      ]
     },
     "execution_count": 66,
     "metadata": {},
     "output_type": "execute_result"
    }
   ],
   "source": [
    "arr9=np.linspace(10,20,10)  #Generates an array with 10 values evenly spaced between 10 and 20\n",
    "arr9                        #The difference between the two numbers will always be same"
   ]
  },
  {
   "cell_type": "code",
   "execution_count": 67,
   "id": "a40da106",
   "metadata": {},
   "outputs": [
    {
     "data": {
      "text/plain": [
       "array([10.        , 11.11111111, 12.22222222, 13.33333333, 14.44444444,\n",
       "       15.55555556, 16.66666667, 17.77777778, 18.88888889, 20.        ])"
      ]
     },
     "execution_count": 67,
     "metadata": {},
     "output_type": "execute_result"
    }
   ],
   "source": [
    "arr10=arr9.copy() #Creates a copy of arr9\n",
    "arr10"
   ]
  },
  {
   "cell_type": "markdown",
   "id": "2599b3d3",
   "metadata": {},
   "source": [
    "# **Numpy Array Properties And Attributes**"
   ]
  },
  {
   "cell_type": "markdown",
   "id": "3e9c2c76",
   "metadata": {},
   "source": [
    "1.Shape\n",
    "2.nDim\n",
    "3.Size\n",
    "4.Itemsize\n",
    "5.Dtype\n",
    "6.astype()"
   ]
  },
  {
   "cell_type": "code",
   "execution_count": 68,
   "id": "b929180e",
   "metadata": {},
   "outputs": [
    {
     "data": {
      "text/plain": [
       "(5,)"
      ]
     },
     "execution_count": 68,
     "metadata": {},
     "output_type": "execute_result"
    }
   ],
   "source": [
    "arr1.shape #Returns the shape of the array (rows, columns)"
   ]
  },
  {
   "cell_type": "code",
   "execution_count": 69,
   "id": "6f075b0d",
   "metadata": {},
   "outputs": [
    {
     "data": {
      "text/plain": [
       "array([[[ 1,  2,  3],\n",
       "        [ 4,  5,  6]],\n",
       "\n",
       "       [[ 7,  8,  9],\n",
       "        [10, 11, 12]]])"
      ]
     },
     "execution_count": 69,
     "metadata": {},
     "output_type": "execute_result"
    }
   ],
   "source": [
    "arr9=np.array([[ [1, 2, 3], [4, 5, 6]], [[7, 8, 9], [10, 11, 12]]])\n",
    "arr9   #3-d Array"
   ]
  },
  {
   "cell_type": "code",
   "execution_count": 70,
   "id": "a48a8290",
   "metadata": {},
   "outputs": [
    {
     "data": {
      "text/plain": [
       "(2, 2, 3)"
      ]
     },
     "execution_count": 70,
     "metadata": {},
     "output_type": "execute_result"
    }
   ],
   "source": [
    "arr9.shape  #Shape of the array"
   ]
  },
  {
   "cell_type": "code",
   "execution_count": 71,
   "id": "d9da1ac7",
   "metadata": {},
   "outputs": [
    {
     "data": {
      "text/plain": [
       "3"
      ]
     },
     "execution_count": 71,
     "metadata": {},
     "output_type": "execute_result"
    }
   ],
   "source": [
    "arr9.ndim"
   ]
  },
  {
   "cell_type": "code",
   "execution_count": 72,
   "id": "165ac95b",
   "metadata": {},
   "outputs": [
    {
     "data": {
      "text/plain": [
       "12"
      ]
     },
     "execution_count": 72,
     "metadata": {},
     "output_type": "execute_result"
    }
   ],
   "source": [
    "arr9.size"
   ]
  },
  {
   "cell_type": "code",
   "execution_count": 73,
   "id": "527de222",
   "metadata": {},
   "outputs": [
    {
     "data": {
      "text/plain": [
       "8"
      ]
     },
     "execution_count": 73,
     "metadata": {},
     "output_type": "execute_result"
    }
   ],
   "source": [
    "arr9.itemsize"
   ]
  },
  {
   "cell_type": "code",
   "execution_count": 74,
   "id": "11bbc2e2",
   "metadata": {},
   "outputs": [
    {
     "data": {
      "text/plain": [
       "dtype('int64')"
      ]
     },
     "execution_count": 74,
     "metadata": {},
     "output_type": "execute_result"
    }
   ],
   "source": [
    "arr8.dtype"
   ]
  },
  {
   "cell_type": "code",
   "execution_count": 75,
   "id": "fe94a753",
   "metadata": {},
   "outputs": [
    {
     "data": {
      "text/plain": [
       "array([ 0.,  2.,  4.,  6.,  8., 10., 12., 14., 16.])"
      ]
     },
     "execution_count": 75,
     "metadata": {},
     "output_type": "execute_result"
    }
   ],
   "source": [
    "#Type casting\n",
    "arr8.astype(float)"
   ]
  },
  {
   "cell_type": "markdown",
   "id": "fb6d03e6",
   "metadata": {},
   "source": [
    "# **Numpy Array VS Python List**"
   ]
  },
  {
   "cell_type": "code",
   "execution_count": 76,
   "id": "5e142362",
   "metadata": {},
   "outputs": [],
   "source": [
    "list=range(100)\n",
    "arr11=np.arange(100) "
   ]
  },
  {
   "cell_type": "code",
   "execution_count": 77,
   "id": "2d06c7b8",
   "metadata": {},
   "outputs": [],
   "source": [
    "import sys "
   ]
  },
  {
   "cell_type": "markdown",
   "id": "c3f7eac8",
   "metadata": {},
   "source": [
    "# Array are faster"
   ]
  },
  {
   "cell_type": "code",
   "execution_count": 78,
   "id": "aa60a7aa",
   "metadata": {},
   "outputs": [
    {
     "name": "stdout",
     "output_type": "stream",
     "text": [
      "Size of list: 2800\n"
     ]
    }
   ],
   "source": [
    "print(\"Size of list:\", sys.getsizeof(87)* len(list))"
   ]
  },
  {
   "cell_type": "code",
   "execution_count": 79,
   "id": "e4d95b02",
   "metadata": {},
   "outputs": [
    {
     "name": "stdout",
     "output_type": "stream",
     "text": [
      "800\n"
     ]
    }
   ],
   "source": [
    "arr11 = np.arange(100)\n",
    "print(arr11.itemsize * arr11.size)"
   ]
  },
  {
   "cell_type": "code",
   "execution_count": null,
   "id": "2197a92c",
   "metadata": {},
   "outputs": [],
   "source": [
    "import time"
   ]
  },
  {
   "cell_type": "markdown",
   "id": "a396d424",
   "metadata": {},
   "source": [
    "# takes more time during execution"
   ]
  },
  {
   "cell_type": "code",
   "execution_count": 26,
   "id": "660df1ee",
   "metadata": {},
   "outputs": [
    {
     "name": "stdout",
     "output_type": "stream",
     "text": [
      "3.137221574783325\n"
     ]
    }
   ],
   "source": [
    "x = range(10000000)\n",
    "y = range(10000000, 20000000)\n",
    "start_time = time.time()\n",
    "c = [(x_val, y_val) for x_val, y_val in zip(x, y)]\n",
    "\n",
    "print(time.time() - start_time)"
   ]
  },
  {
   "cell_type": "code",
   "execution_count": 27,
   "id": "09392899",
   "metadata": {},
   "outputs": [
    {
     "name": "stdout",
     "output_type": "stream",
     "text": [
      "0.73221755027771\n"
     ]
    }
   ],
   "source": [
    "a=np.arange(10000000)\n",
    "b=np.arange(10000000,20000000)   \n",
    "start_time = time.time()\n",
    "c=a+b \n",
    "\n",
    "print(time.time()-start_time)"
   ]
  },
  {
   "cell_type": "markdown",
   "id": "46802fdd",
   "metadata": {},
   "source": [
    "# **Indexing Iteration and Slicing**"
   ]
  },
  {
   "cell_type": "code",
   "execution_count": 28,
   "id": "89852c46",
   "metadata": {},
   "outputs": [
    {
     "data": {
      "text/plain": [
       "array([[ 0,  1,  2,  3],\n",
       "       [ 4,  5,  6,  7],\n",
       "       [ 8,  9, 10, 11],\n",
       "       [12, 13, 14, 15],\n",
       "       [16, 17, 18, 19],\n",
       "       [20, 21, 22, 23]])"
      ]
     },
     "execution_count": 28,
     "metadata": {},
     "output_type": "execute_result"
    }
   ],
   "source": [
    "arr13=np.arange(24).reshape(6,4) #Reshaping the array to 6 rows and 4 columns\n",
    "arr13\n"
   ]
  },
  {
   "cell_type": "code",
   "execution_count": 29,
   "id": "0a2147b6",
   "metadata": {},
   "outputs": [
    {
     "data": {
      "text/plain": [
       "2"
      ]
     },
     "execution_count": 29,
     "metadata": {},
     "output_type": "execute_result"
    }
   ],
   "source": [
    "arr13.ndim #Number of dimensions"
   ]
  },
  {
   "cell_type": "code",
   "execution_count": 30,
   "id": "bf9c62b2",
   "metadata": {},
   "outputs": [
    {
     "data": {
      "text/plain": [
       "array([ 8,  9, 10, 11])"
      ]
     },
     "execution_count": 30,
     "metadata": {},
     "output_type": "execute_result"
    }
   ],
   "source": [
    "arr13[2] #Accessing the 2nd row"
   ]
  },
  {
   "cell_type": "code",
   "execution_count": 31,
   "id": "94edd033",
   "metadata": {},
   "outputs": [
    {
     "data": {
      "text/plain": [
       "array([[ 0,  1,  2,  3],\n",
       "       [ 4,  5,  6,  7],\n",
       "       [ 8,  9, 10, 11]])"
      ]
     },
     "execution_count": 31,
     "metadata": {},
     "output_type": "execute_result"
    }
   ],
   "source": [
    "arr13[:3] #Accessing the first 3 rows"
   ]
  },
  {
   "cell_type": "code",
   "execution_count": 32,
   "id": "0f3c5756",
   "metadata": {},
   "outputs": [
    {
     "data": {
      "text/plain": [
       "array([ 3,  7, 11, 15, 19, 23])"
      ]
     },
     "execution_count": 32,
     "metadata": {},
     "output_type": "execute_result"
    }
   ],
   "source": [
    "arr13[: ,3] #Accessing the 3rd column"
   ]
  },
  {
   "cell_type": "code",
   "execution_count": 33,
   "id": "940004fa",
   "metadata": {},
   "outputs": [
    {
     "data": {
      "text/plain": [
       "array([ 8,  9, 10, 11])"
      ]
     },
     "execution_count": 33,
     "metadata": {},
     "output_type": "execute_result"
    }
   ],
   "source": [
    "arr13[2,:]  #Accessing the 2nd row and all columns"
   ]
  },
  {
   "cell_type": "code",
   "execution_count": 34,
   "id": "b24cb8fe",
   "metadata": {},
   "outputs": [
    {
     "data": {
      "text/plain": [
       "array([[ 1,  2],\n",
       "       [ 5,  6],\n",
       "       [ 9, 10],\n",
       "       [13, 14],\n",
       "       [17, 18],\n",
       "       [21, 22]])"
      ]
     },
     "execution_count": 34,
     "metadata": {},
     "output_type": "execute_result"
    }
   ],
   "source": [
    "arr13[:,1:3]  #Accessing all rows and columns from 1st to 2nd (exclusive)"
   ]
  },
  {
   "cell_type": "code",
   "execution_count": 35,
   "id": "01998b13",
   "metadata": {},
   "outputs": [
    {
     "data": {
      "text/plain": [
       "array([[ 9, 10],\n",
       "       [13, 14]])"
      ]
     },
     "execution_count": 35,
     "metadata": {},
     "output_type": "execute_result"
    }
   ],
   "source": [
    "arr13[2:4,1:3]  #Accessing rows from 2nd to 3rd (exclusive) and columns from 1st to 2nd (exclusive)"
   ]
  },
  {
   "cell_type": "code",
   "execution_count": 36,
   "id": "7c1a6a11",
   "metadata": {},
   "outputs": [
    {
     "data": {
      "text/plain": [
       "np.int64(3)"
      ]
     },
     "execution_count": 36,
     "metadata": {},
     "output_type": "execute_result"
    }
   ],
   "source": [
    "arr13[0][3] #Accessing the element at 0th row and 3rd column"
   ]
  },
  {
   "cell_type": "code",
   "execution_count": 37,
   "id": "7b551702",
   "metadata": {},
   "outputs": [
    {
     "data": {
      "text/plain": [
       "array([[ 0,  1,  2,  3,  4,  5],\n",
       "       [ 6,  7,  8,  9, 10, 11],\n",
       "       [12, 13, 14, 15, 16, 17],\n",
       "       [18, 19, 20, 21, 22, 23]])"
      ]
     },
     "execution_count": 37,
     "metadata": {},
     "output_type": "execute_result"
    }
   ],
   "source": [
    "arr13.reshape(2,12)  #Reshaping the array to 2 rows and 12 columns\n",
    "arr13.reshape(3,8)  #Reshaping the array to 3 rows and 8 columns\n",
    "arr13.reshape(4,6)  #Reshaping the array to 4 rows and 6 columns"
   ]
  },
  {
   "cell_type": "markdown",
   "id": "8beb182c",
   "metadata": {},
   "source": [
    "# **Mathematics**"
   ]
  },
  {
   "cell_type": "code",
   "execution_count": 38,
   "id": "4fd23211",
   "metadata": {},
   "outputs": [
    {
     "data": {
      "text/plain": [
       "np.int64(12)"
      ]
     },
     "execution_count": 38,
     "metadata": {},
     "output_type": "execute_result"
    }
   ],
   "source": [
    "a = [1, 2, 3]\n",
    "b = [2, 2, 2]\n",
    "np.sum([a,b])"
   ]
  },
  {
   "cell_type": "code",
   "execution_count": 39,
   "id": "ef31c8a0",
   "metadata": {},
   "outputs": [
    {
     "data": {
      "text/plain": [
       "array([3, 4, 5])"
      ]
     },
     "execution_count": 39,
     "metadata": {},
     "output_type": "execute_result"
    }
   ],
   "source": [
    "a = [1, 2, 3]\n",
    "b = [2,2,2]\n",
    "np.sum([a, b],axis=0)  # Subtracting two arrays element-wise"
   ]
  },
  {
   "cell_type": "code",
   "execution_count": 40,
   "id": "e283f9ea",
   "metadata": {},
   "outputs": [
    {
     "data": {
      "text/plain": [
       "array([6, 6])"
      ]
     },
     "execution_count": 40,
     "metadata": {},
     "output_type": "execute_result"
    }
   ],
   "source": [
    "a = [1, 2, 3]\n",
    "b = [2,2,2]\n",
    "np.sum([a, b],axis=1)"
   ]
  },
  {
   "cell_type": "code",
   "execution_count": 41,
   "id": "5f1dd7f7",
   "metadata": {},
   "outputs": [
    {
     "name": "stdout",
     "output_type": "stream",
     "text": [
      "[1, 2, 3] [2, 2, 2]\n"
     ]
    },
    {
     "data": {
      "text/plain": [
       "array([-1,  0,  1])"
      ]
     },
     "execution_count": 41,
     "metadata": {},
     "output_type": "execute_result"
    }
   ],
   "source": [
    "print(a,b)\n",
    "np.subtract(a, 2)  #Subtracting 2 from each element of the array"
   ]
  },
  {
   "cell_type": "code",
   "execution_count": 42,
   "id": "1cbf4c0a",
   "metadata": {},
   "outputs": [
    {
     "name": "stdout",
     "output_type": "stream",
     "text": [
      "[1, 2, 3] [2, 2, 2]\n"
     ]
    },
    {
     "data": {
      "text/plain": [
       "array([-1,  0,  1])"
      ]
     },
     "execution_count": 42,
     "metadata": {},
     "output_type": "execute_result"
    }
   ],
   "source": [
    "print(a,b)\n",
    "np.subtract(a, b)   "
   ]
  },
  {
   "cell_type": "code",
   "execution_count": 43,
   "id": "dd5093a3",
   "metadata": {},
   "outputs": [
    {
     "name": "stdout",
     "output_type": "stream",
     "text": [
      "[1, 2, 3] [2, 2, 2]\n"
     ]
    },
    {
     "data": {
      "text/plain": [
       "array([-3, -3, -3])"
      ]
     },
     "execution_count": 43,
     "metadata": {},
     "output_type": "execute_result"
    }
   ],
   "source": [
    "print(a,b)\n",
    "np.subtract([1, 2, 3], [4, 5, 6])  #Subtracting two arrays element-wise"
   ]
  },
  {
   "cell_type": "code",
   "execution_count": 44,
   "id": "f3c9a418",
   "metadata": {},
   "outputs": [
    {
     "name": "stdout",
     "output_type": "stream",
     "text": [
      "[1, 2, 3] [2, 2, 2]\n"
     ]
    },
    {
     "data": {
      "text/plain": [
       "array([2, 4, 6])"
      ]
     },
     "execution_count": 44,
     "metadata": {},
     "output_type": "execute_result"
    }
   ],
   "source": [
    "print(a,b)\n",
    "np.multiply(a, 2)  #Multiplying each element of the array by 2"
   ]
  },
  {
   "cell_type": "code",
   "execution_count": 45,
   "id": "49986ffa",
   "metadata": {},
   "outputs": [
    {
     "name": "stdout",
     "output_type": "stream",
     "text": [
      "[1, 2, 3] [2, 2, 2]\n"
     ]
    },
    {
     "data": {
      "text/plain": [
       "array([2, 4, 6])"
      ]
     },
     "execution_count": 45,
     "metadata": {},
     "output_type": "execute_result"
    }
   ],
   "source": [
    "print(a,b)\n",
    "np.multiply(a,b) #Multiplying two arrays element-wise"
   ]
  },
  {
   "cell_type": "code",
   "execution_count": 46,
   "id": "d714394b",
   "metadata": {},
   "outputs": [
    {
     "name": "stdout",
     "output_type": "stream",
     "text": [
      "[1, 2, 3] [2, 2, 2]\n"
     ]
    },
    {
     "data": {
      "text/plain": [
       "array([0.5, 1. , 1.5])"
      ]
     },
     "execution_count": 46,
     "metadata": {},
     "output_type": "execute_result"
    }
   ],
   "source": [
    "print(a,b)\n",
    "np.divide(a, b) #Dividing two arrays element-wise"
   ]
  },
  {
   "cell_type": "code",
   "execution_count": 47,
   "id": "a18e9ed2",
   "metadata": {},
   "outputs": [
    {
     "data": {
      "text/plain": [
       "array([ 2.71828183,  7.3890561 , 20.08553692])"
      ]
     },
     "execution_count": 47,
     "metadata": {},
     "output_type": "execute_result"
    }
   ],
   "source": [
    "np.exp(a) #Calculating the exponential of each element in the array"
   ]
  },
  {
   "cell_type": "code",
   "execution_count": 48,
   "id": "eb960512",
   "metadata": {},
   "outputs": [
    {
     "data": {
      "text/plain": [
       "array([1.        , 1.41421356, 1.73205081])"
      ]
     },
     "execution_count": 48,
     "metadata": {},
     "output_type": "execute_result"
    }
   ],
   "source": [
    "np.sqrt(a) #Calculating the square root of each element in the array"
   ]
  },
  {
   "cell_type": "code",
   "execution_count": 49,
   "id": "52e3ccc3",
   "metadata": {},
   "outputs": [
    {
     "data": {
      "text/plain": [
       "np.float64(6.0)"
      ]
     },
     "execution_count": 49,
     "metadata": {},
     "output_type": "execute_result"
    }
   ],
   "source": [
    "np.sqrt(36) #Calculating the square root of a single number"
   ]
  },
  {
   "cell_type": "code",
   "execution_count": 50,
   "id": "00accb90",
   "metadata": {},
   "outputs": [
    {
     "data": {
      "text/plain": [
       "array([0.84147098, 0.90929743, 0.14112001])"
      ]
     },
     "execution_count": 50,
     "metadata": {},
     "output_type": "execute_result"
    }
   ],
   "source": [
    "np.sin(a) #Calculating the sine of each element in the array"
   ]
  },
  {
   "cell_type": "code",
   "execution_count": 51,
   "id": "ccfbccf2",
   "metadata": {},
   "outputs": [
    {
     "data": {
      "text/plain": [
       "np.float64(0.8939966636005579)"
      ]
     },
     "execution_count": 51,
     "metadata": {},
     "output_type": "execute_result"
    }
   ],
   "source": [
    "np.sin(90) #Calculating the sine of 90 degrees"
   ]
  },
  {
   "cell_type": "code",
   "execution_count": 52,
   "id": "d981e519",
   "metadata": {},
   "outputs": [
    {
     "data": {
      "text/plain": [
       "np.float64(-0.4480736161291701)"
      ]
     },
     "execution_count": 52,
     "metadata": {},
     "output_type": "execute_result"
    }
   ],
   "source": [
    "np.cos(90)  #Calculating the cosine of 90 degrees"
   ]
  },
  {
   "cell_type": "code",
   "execution_count": 53,
   "id": "75a197e6",
   "metadata": {},
   "outputs": [
    {
     "data": {
      "text/plain": [
       "array([0.        , 0.69314718, 1.09861229])"
      ]
     },
     "execution_count": 53,
     "metadata": {},
     "output_type": "execute_result"
    }
   ],
   "source": [
    "np.log(a) #Calculating the natural logarithm of each element in the array"
   ]
  },
  {
   "cell_type": "code",
   "execution_count": 54,
   "id": "bcf7f1af",
   "metadata": {},
   "outputs": [
    {
     "data": {
      "text/plain": [
       "np.float64(2.302585092994046)"
      ]
     },
     "execution_count": 54,
     "metadata": {},
     "output_type": "execute_result"
    }
   ],
   "source": [
    "np.log(10) #Calculating the natural logarithm of a single number"
   ]
  },
  {
   "cell_type": "markdown",
   "id": "1d654fe0",
   "metadata": {},
   "source": [
    "# **Array Comparison**"
   ]
  },
  {
   "cell_type": "code",
   "execution_count": 55,
   "id": "fc6bf668",
   "metadata": {},
   "outputs": [
    {
     "name": "stdout",
     "output_type": "stream",
     "text": [
      "[1, 2, 3] [2, 2, 2]\n"
     ]
    },
    {
     "data": {
      "text/plain": [
       "array([False,  True, False])"
      ]
     },
     "execution_count": 55,
     "metadata": {},
     "output_type": "execute_result"
    }
   ],
   "source": [
    "print(a,b)\n",
    "np.equal(a, b)  #Checking if two arrays are equal element-wise"
   ]
  },
  {
   "cell_type": "code",
   "execution_count": 139,
   "id": "67fa4bf5",
   "metadata": {},
   "outputs": [
    {
     "name": "stdout",
     "output_type": "stream",
     "text": [
      "[1, 2, 3] [2, 2, 2]\n"
     ]
    },
    {
     "data": {
      "text/plain": [
       "False"
      ]
     },
     "execution_count": 139,
     "metadata": {},
     "output_type": "execute_result"
    }
   ],
   "source": [
    "print(a,b)\n",
    "np.array_equal(a, b)  #Checking if two arrays are equal element-wise"
   ]
  },
  {
   "cell_type": "markdown",
   "id": "1faa0206",
   "metadata": {},
   "source": [
    "# **Aggregate Functions**"
   ]
  },
  {
   "cell_type": "code",
   "execution_count": null,
   "id": "721ea379",
   "metadata": {},
   "outputs": [],
   "source": []
  },
  {
   "cell_type": "markdown",
   "id": "d216faa4",
   "metadata": {},
   "source": [
    "# **BroadCasting**"
   ]
  },
  {
   "cell_type": "markdown",
   "id": "e9d72100",
   "metadata": {},
   "source": [
    "# Rules OF BroadCasting\n",
    "1.Both arrays have same dimensions\n",
    "# OR\n",
    "2.Any one array has a dimension 1"
   ]
  },
  {
   "cell_type": "code",
   "execution_count": null,
   "id": "c2095736",
   "metadata": {},
   "outputs": [
    {
     "data": {
      "text/plain": [
       "array([[ 7,  9, 11, 13, 15],\n",
       "       [12, 14, 16, 18, 20]])"
      ]
     },
     "execution_count": 89,
     "metadata": {},
     "output_type": "execute_result"
    }
   ],
   "source": [
    "a=np.array([[1, 2, 3, 4, 5],[6, 7, 8, 9, 10]])\n",
    "b=np.array([6, 7, 8, 9, 10])    \n",
    "a + b  #adding b to each row of a\n"
   ]
  },
  {
   "cell_type": "code",
   "execution_count": 86,
   "id": "d665c4bb",
   "metadata": {},
   "outputs": [
    {
     "data": {
      "text/plain": [
       "array([[2, 3, 4],\n",
       "       [3, 4, 5],\n",
       "       [4, 5, 6]])"
      ]
     },
     "execution_count": 86,
     "metadata": {},
     "output_type": "execute_result"
    }
   ],
   "source": [
    "a = np.array([1, 2, 3])\n",
    "b = np.array([[1],[2],[3]])\n",
    "a + b  # Broadcasting b to each row of a"
   ]
  },
  {
   "cell_type": "code",
   "execution_count": null,
   "id": "a2de828d",
   "metadata": {},
   "outputs": [
    {
     "data": {
      "text/plain": [
       "array([[-5, -5, -5, -5, -5],\n",
       "       [ 0,  0,  0,  0,  0]])"
      ]
     },
     "execution_count": 90,
     "metadata": {},
     "output_type": "execute_result"
    }
   ],
   "source": [
    "a=np.array([[1, 2, 3, 4, 5],[6, 7, 8, 9, 10]])\n",
    "b=np.array([6, 7, 8, 9, 10])    \n",
    "a - b  #Subtracting b from each row of a\n"
   ]
  },
  {
   "cell_type": "code",
   "execution_count": null,
   "id": "3dad1c15",
   "metadata": {},
   "outputs": [
    {
     "data": {
      "text/plain": [
       "array([[ 0,  1,  2],\n",
       "       [-1,  0,  1],\n",
       "       [-2, -1,  0]])"
      ]
     },
     "execution_count": 91,
     "metadata": {},
     "output_type": "execute_result"
    }
   ],
   "source": [
    "a = np.array([1, 2, 3])\n",
    "b = np.array([[1],[2],[3]])\n",
    "a - b  "
   ]
  },
  {
   "cell_type": "code",
   "execution_count": 88,
   "id": "c692d996",
   "metadata": {},
   "outputs": [
    {
     "data": {
      "text/plain": [
       "1"
      ]
     },
     "execution_count": 88,
     "metadata": {},
     "output_type": "execute_result"
    }
   ],
   "source": [
    "a.ndim"
   ]
  }
 ],
 "metadata": {
  "kernelspec": {
   "display_name": "pyhton_eda",
   "language": "python",
   "name": "python3"
  },
  "language_info": {
   "codemirror_mode": {
    "name": "ipython",
    "version": 3
   },
   "file_extension": ".py",
   "mimetype": "text/x-python",
   "name": "python",
   "nbconvert_exporter": "python",
   "pygments_lexer": "ipython3",
   "version": "3.11.0"
  }
 },
 "nbformat": 4,
 "nbformat_minor": 5
}
